{
  "cells": [
    {
      "cell_type": "markdown",
      "metadata": {
        "id": "4OqGi4uBG7Q-"
      },
      "source": [
        "# Model-building phase\n",
        "- [Data Preprocessing](#Data-Preprocessing)\n",
        "- [Supervised Models](#Supervised-Models)\n",
        "    - [Random Forest](#**Random-Forest**)\n",
        "    - [Gradient Boosting](#**Gradient-Boosting**)\n",
        "    - [Perceptron](#Perceptron)\n",
        "    - [SVM](#Support-Vector-Machines-(SVM))\n"
      ]
    },
    {
      "cell_type": "code",
      "execution_count": 1,
      "metadata": {
        "id": "POkCMZ_1G7RG"
      },
      "outputs": [],
      "source": [
        "import pandas as pd\n",
        "import numpy as np\n",
        "import random\n",
        "from tools import *\n",
        "from pprint import pprint\n",
        "import pickle\n",
        "\n",
        "from sklearn.model_selection import RandomizedSearchCV\n",
        "from sklearn.model_selection import GridSearchCV\n",
        "from sklearn.preprocessing import StandardScaler\n",
        "from  sklearn.metrics import accuracy_score\n",
        "from sklearn.svm import SVC\n",
        "from sklearn.linear_model import Perceptron\n",
        "from sklearn.ensemble import RandomForestClassifier\n",
        "from sklearn.ensemble import GradientBoostingClassifier\n",
        "from sklearn.svm import SVC"
      ]
    },
    {
      "cell_type": "markdown",
      "metadata": {
        "id": "rwlRdpwYG7RJ"
      },
      "source": [
        "## Data Preprocessing "
      ]
    },
    {
      "cell_type": "markdown",
      "metadata": {
        "id": "lWxeRb01G7RK"
      },
      "source": [
        "In preprocessing the data we make use of the *prep* function, which simultaneously allows us both to deal with the missing values, giving us the choice of removing them, or partially removing them by replacing the remainder with the mean or median of the corresponding variable, and to scale the data, with the possibility of choosing the method by which to scale such data from all the scalers in scikit-learn, by default the MinMaxScaler is set. The function then takes as input a pandas DataFrame and outputs a numpy ndarray containing the cleaned data from the previous dataset."
      ]
    },
    {
      "cell_type": "markdown",
      "metadata": {
        "id": "sIvW94UYG7RK"
      },
      "source": [
        "Our idea is to generate two datasets: the first by eliminating all observations having at least one component with a missing value, the second by eliminating only 50 percent of those observations. Eventually we will train each model using both datasets and collect their metrics in order to assess whether on average such a reduction in missing values to be eliminated (thus replacing the missing part) resulted in any benefit."
      ]
    },
    {
      "cell_type": "markdown",
      "metadata": {
        "id": "Y5vYhzHBG7RL"
      },
      "source": [
        "### Scaling Data\n",
        "To observe if there are difference in performance of the models  trained on a dataset with  all the Nan values imputed and in the models trained on a dataset with only a percentage of Nan values imputed, we have  created 2 dataset:\n",
        "- one where we imputed all the Nan values (Water 100 dataset)\n",
        "- one where we imputed only the half Nan values deleting the remain part of observations (Water 50 dataset)"
      ]
    },
    {
      "cell_type": "code",
      "execution_count": 2,
      "metadata": {
        "id": "fGKi6FvRG7RM"
      },
      "outputs": [],
      "source": [
        "random_seed = 42"
      ]
    },
    {
      "cell_type": "code",
      "execution_count": 3,
      "metadata": {
        "colab": {
          "base_uri": "https://localhost:8080/"
        },
        "id": "X4mX4XunG7RO",
        "outputId": "78ed416f-78a7-43bd-ccef-e4a1e432e570"
      },
      "outputs": [
        {
          "name": "stdout",
          "output_type": "stream",
          "text": [
            "original dataset size:  (3276, 10) - type:  <class 'pandas.core.frame.DataFrame'>\n",
            "cleaned dataset with 50% of missing values removed:  (2644, 10) - type:  <class 'numpy.ndarray'>\n",
            "cleaned dataset with no missing values removed:  (3276, 10) - type:  <class 'numpy.ndarray'>\n"
          ]
        }
      ],
      "source": [
        "# Setting random state for each model\n",
        "water = pd.read_csv('dataset/drinking_water_potability.csv')\n",
        "water50 = prep(\n",
        "    data = water,\n",
        "    target='Potability',\n",
        "    axis='obs',\n",
        "    perc=50,\n",
        "    fill_method='mean',\n",
        "    scaler= StandardScaler(),\n",
        "    random_state = random_seed\n",
        ")\n",
        "water100 = prep(\n",
        "    data = water,\n",
        "    target='Potability',\n",
        "    axis='obs',\n",
        "    perc=0,\n",
        "    fill_method='mean',\n",
        "    scaler= StandardScaler(),\n",
        "    random_state = random_seed\n",
        ")\n",
        "print('original dataset size: ', water.shape, '- type: ', type(water))\n",
        "print('cleaned dataset with 50% of missing values removed: ', np.shape(water50), '- type: ', type(water50))\n",
        "print('cleaned dataset with no missing values removed: ', np.shape(water100), '- type: ', type(water100))"
      ]
    },
    {
      "cell_type": "markdown",
      "metadata": {
        "id": "_JPL06ldG7RR"
      },
      "source": [
        "### Splitting Data\n",
        "At this point we proceed to divide the dataset into train set, validation set and test set. To do this, we make use of the *train_test_split()* function of scikit-learn."
      ]
    },
    {
      "cell_type": "code",
      "execution_count": 4,
      "metadata": {
        "colab": {
          "base_uri": "https://localhost:8080/"
        },
        "id": "V7qkDsU_G7RT",
        "outputId": "1821d7d7-ba7d-4efe-bb78-c4671a31b476"
      },
      "outputs": [
        {
          "name": "stdout",
          "output_type": "stream",
          "text": [
            "BEFORE SPLITTING: \n",
            "\n",
            "X shape:  (2644, 9)\n",
            "y shape:  (2644,)\n",
            "\n",
            "AFTER SPLITTING: \n",
            "X_train shape:  (1850, 9)\n",
            "y_train shape:  (1850,)\n",
            "X_test shape:  (794, 9)\n",
            "y_test shape:  (794,)\n",
            "X_val shape:  (397, 9)\n",
            "y_val shape:  (397,)\n"
          ]
        }
      ],
      "source": [
        "#Water 50\n",
        "X_train50, X_val50, X_test50, y_train50, y_val50, y_test50=split(df = water50,\n",
        "                                                    target_index = 9,\n",
        "                                                    validation = True,\n",
        "                                                    perc_train = 0.7,\n",
        "                                                    random_seed = random_seed,\n",
        "                                                    verbose=True)"
      ]
    },
    {
      "cell_type": "code",
      "execution_count": 5,
      "metadata": {
        "colab": {
          "base_uri": "https://localhost:8080/"
        },
        "id": "TQTN1qiOG7RU",
        "outputId": "906b741c-8be5-4630-ca73-6f08cb765171"
      },
      "outputs": [
        {
          "name": "stdout",
          "output_type": "stream",
          "text": [
            "BEFORE SPLITTING: \n",
            "\n",
            "X shape:  (3276, 9)\n",
            "y shape:  (3276,)\n",
            "\n",
            "AFTER SPLITTING: \n",
            "X_train shape:  (2293, 9)\n",
            "y_train shape:  (2293,)\n",
            "X_test shape:  (983, 9)\n",
            "y_test shape:  (983,)\n",
            "X_val shape:  (491, 9)\n",
            "y_val shape:  (491,)\n"
          ]
        }
      ],
      "source": [
        "#Water 100\n",
        "X_train100, X_val100, X_test100, y_train100, y_val100, y_test100=split(df = water100,\n",
        "                                                    target_index = 9,\n",
        "                                                    perc_train = 0.7,\n",
        "                                                    random_seed = random_seed,\n",
        "                                                    verbose=True)"
      ]
    },
    {
      "cell_type": "markdown",
      "metadata": {
        "id": "yUXFKnZUG7RV"
      },
      "source": [
        "## Supervised Models\n",
        "The Supervised models that we chose are the following:\n",
        "- **Random Forest**\n",
        "- **XGBoost**\n"
      ]
    },
    {
      "cell_type": "markdown",
      "metadata": {
        "id": "tOWcJ9hCG7RW"
      },
      "source": [
        "### **Random Forest**\n",
        "\n",
        "Random forests or random decision forests is an ensemble learning method for classification, regression and other tasks that operates by constructing a multitude of decision trees at training time. For classification tasks, the output of the random forest is the class selected by most trees. \n",
        "\n",
        "Source: [link](https://scikit-learn.org/stable/modules/generated/sklearn.ensemble.RandomForestClassifier.html#sklearn.ensemble.RandomForestClassifier)\n",
        "\n",
        "In this part of the report we will train the Random Forest on Water100, that one with all the Nan values imputed."
      ]
    },
    {
      "cell_type": "markdown",
      "metadata": {
        "id": "-2FDI5aaG7RW"
      },
      "source": [
        "#### Random Forest Base Model"
      ]
    },
    {
      "cell_type": "code",
      "execution_count": 6,
      "metadata": {
        "colab": {
          "base_uri": "https://localhost:8080/",
          "height": 401
        },
        "id": "qKF7IzeWG7RX",
        "outputId": "2063ee96-1ea5-4409-93bc-b8f4bf69384c"
      },
      "outputs": [
        {
          "name": "stdout",
          "output_type": "stream",
          "text": [
            "Confusion matrix: \n"
          ]
        },
        {
          "data": {
            "image/png": "[encoded data removed]",
            "text/plain": [
              "<Figure size 640x480 with 2 Axes>"
            ]
          },
          "metadata": {},
          "output_type": "display_data"
        },
        {
          "name": "stdout",
          "output_type": "stream",
          "text": [
            "Model Performance: \n",
            "\n",
            "accuracy = 76.57%.\n",
            "recall = 60.00%.\n",
            "precision = 73.17%.\n",
            "f1_score = 65.93%.\n"
          ]
        }
      ],
      "source": [
        "# Training base model\n",
        "rf_base_w50 = RandomForestClassifier(random_state = random_seed)\n",
        "rf_base_w50.fit(X_train50, y_train50)\n",
        "#Computing the base model accuracy\n",
        "rf_base_metrics_w50 = evaluate(rf_base_w50, X_val50, y_val50,conf_matrix=True)"
      ]
    },
    {
      "cell_type": "markdown",
      "metadata": {
        "id": "22UvlidsG7RY"
      },
      "source": [
        "#### Random Search with Cross Validation\n",
        " First of all we will start searching the best configuration of hyperparameters with a random search choosing among \n",
        " thousand combinations of hyperparameters 100 random combinations, after this first step we will focus more with a grid \n",
        "search around the best combinations found with the random search"
      ]
    },
    {
      "cell_type": "code",
      "execution_count": 7,
      "metadata": {
        "colab": {
          "base_uri": "https://localhost:8080/"
        },
        "id": "ascFCXK1G7RY",
        "outputId": "2eda78a8-4bf9-4709-81ea-248d51a2d310"
      },
      "outputs": [
        {
          "name": "stdout",
          "output_type": "stream",
          "text": [
            "Parameters currently in use:\n",
            "\n"
          ]
        },
        {
          "data": {
            "text/plain": [
              "{'bootstrap': True,\n",
              " 'ccp_alpha': 0.0,\n",
              " 'class_weight': None,\n",
              " 'criterion': 'gini',\n",
              " 'max_depth': None,\n",
              " 'max_features': 'sqrt',\n",
              " 'max_leaf_nodes': None,\n",
              " 'max_samples': None,\n",
              " 'min_impurity_decrease': 0.0,\n",
              " 'min_samples_leaf': 1,\n",
              " 'min_samples_split': 2,\n",
              " 'min_weight_fraction_leaf': 0.0,\n",
              " 'n_estimators': 100,\n",
              " 'n_jobs': None,\n",
              " 'oob_score': False,\n",
              " 'random_state': 42,\n",
              " 'verbose': 0,\n",
              " 'warm_start': False}"
            ]
          },
          "execution_count": 7,
          "metadata": {},
          "output_type": "execute_result"
        }
      ],
      "source": [
        "#Defining Random Forest Claasifier\n",
        "rf = RandomForestClassifier(random_state = random_seed)\n",
        "# Look at parameters used by our current forest\n",
        "print('Parameters currently in use:\\n')\n",
        "rf.get_params()"
      ]
    },
    {
      "cell_type": "markdown",
      "metadata": {
        "id": "3RXdy9hsG7RZ"
      },
      "source": [
        "\n",
        "As we can see there are many hyperparameter that we can tune, but for the moment we will focus more only on  the most importants"
      ]
    },
    {
      "cell_type": "code",
      "execution_count": 8,
      "metadata": {
        "id": "AHy7zzMNG7Rf"
      },
      "outputs": [
        {
          "name": "stdout",
          "output_type": "stream",
          "text": [
            "{'bootstrap': [True, False],\n",
            " 'criterion': ['gini', 'entropy', 'log_loss'],\n",
            " 'max_depth': [10, 20, 30, 40, 50, 60, 70, 80, 90, 100, 110, None],\n",
            " 'max_features': ['auto', 'sqrt', 'log2', None],\n",
            " 'min_samples_leaf': [1, 2, 4],\n",
            " 'min_samples_split': [2, 5, 10],\n",
            " 'n_estimators': [200, 400, 600, 800, 1000, 1200, 1400, 1600, 1800, 2000]}\n"
          ]
        }
      ],
      "source": [
        "random_grid = {\n",
        "    # Number of trees in random forest\n",
        "    'n_estimators': [int(x) for x in np.linspace(start = 200, stop = 2000, num = 10)],\n",
        "    # Number of features to consider at every split\n",
        "    'max_features': ['auto', 'sqrt','log2', None],\n",
        "    # Maximum number of levels in tree\n",
        "    'max_depth': [int(x) for x in np.linspace(10, 110, num = 11)] + [None],\n",
        "    # Minimum number of samples required to split a node\n",
        "    'min_samples_split': [2, 5, 10],\n",
        "    # Minimum number of samples required at each leaf node\n",
        "    'min_samples_leaf': [1, 2, 4],\n",
        "    # Method of selecting samples for training each tree\n",
        "    'bootstrap': [True, False],\n",
        "    # Metrics  to measure the quality of a split.\n",
        "    'criterion':['gini', 'entropy', 'log_loss']\n",
        "}\n",
        "\n",
        "pprint(random_grid)\n",
        "\n",
        "rf_random_search_w50 = RandomizedSearchCV(\n",
        "    estimator = rf, \n",
        "    param_distributions = random_grid,\n",
        "    n_iter = 100, \n",
        "    cv = 3, \n",
        "    random_state=random_seed, \n",
        "    n_jobs = -1\n",
        "    )\n",
        "\n",
        "#rf_random_search.fit(X_train50, y_train50)"
      ]
    },
    {
      "attachments": {},
      "cell_type": "markdown",
      "metadata": {},
      "source": [
        "Actually if we used all the possible combinations we should train the random forest 25920 times without considering the cross validation for each combinations, that would require a computational time too high, for this reason initially we will use the random search using only 100 random combinations among those available"
      ]
    },
    {
      "cell_type": "markdown",
      "metadata": {
        "id": "O55SLup-G7Rg"
      },
      "source": [
        "##### Store and Load Models\n",
        "To avoid  traininig each time the models we will save after every training of the models the results inside *Models folder* using pickle library\n"
      ]
    },
    {
      "cell_type": "code",
      "execution_count": 9,
      "metadata": {
        "colab": {
          "base_uri": "https://localhost:8080/"
        },
        "id": "3AETkEe8G7Rh",
        "outputId": "a3a05d59-ed4f-440e-beba-7f3ad95cae5e"
      },
      "outputs": [],
      "source": [
        "#pickle.dump(rf_random_search, open('Models50/Random_Forest_rs_w50.pkl', 'wb'))\n",
        "rf_random_search_w50=pickle.load(open('Models50/Random_Forest_rs_w50.pkl', 'rb'))"
      ]
    },
    {
      "cell_type": "code",
      "execution_count": 10,
      "metadata": {
        "colab": {
          "base_uri": "https://localhost:8080/"
        },
        "id": "JzEPhdVAG7Ri",
        "outputId": "435653b2-a40f-4c31-d311-70022bea85b9"
      },
      "outputs": [
        {
          "data": {
            "text/plain": [
              "{'n_estimators': 2000,\n",
              " 'min_samples_split': 2,\n",
              " 'min_samples_leaf': 1,\n",
              " 'max_features': 'log2',\n",
              " 'max_depth': 10,\n",
              " 'criterion': 'gini',\n",
              " 'bootstrap': True}"
            ]
          },
          "execution_count": 10,
          "metadata": {},
          "output_type": "execute_result"
        }
      ],
      "source": [
        "rf_random_search_w50.best_params_"
      ]
    },
    {
      "cell_type": "markdown",
      "metadata": {
        "id": "olqIGgNcG7Rk"
      },
      "source": [
        "##### Comparing base model with tuned model with Random Search\n",
        "To check if we are going in right direction we will compare the base model without tuning of parameters with the tuned model comparing the accuracy of both models on validation set"
      ]
    },
    {
      "cell_type": "code",
      "execution_count": 11,
      "metadata": {
        "colab": {
          "base_uri": "https://localhost:8080/",
          "height": 419
        },
        "id": "ObAXT9j4G7Rm",
        "outputId": "9cb78cd4-337f-4918-ae5d-d3ad4b4b3102"
      },
      "outputs": [
        {
          "data": {
            "text/html": [
              "<style>#sk-container-id-1 {color: black;background-color: white;}#sk-container-id-1 pre{padding: 0;}#sk-container-id-1 div.sk-toggleable {background-color: white;}#sk-container-id-1 label.sk-toggleable__label {cursor: pointer;display: block;width: 100%;margin-bottom: 0;padding: 0.3em;box-sizing: border-box;text-align: center;}#sk-container-id-1 label.sk-toggleable__label-arrow:before {content: \"▸\";float: left;margin-right: 0.25em;color: #696969;}#sk-container-id-1 label.sk-toggleable__label-arrow:hover:before {color: black;}#sk-container-id-1 div.sk-estimator:hover label.sk-toggleable__label-arrow:before {color: black;}#sk-container-id-1 div.sk-toggleable__content {max-height: 0;max-width: 0;overflow: hidden;text-align: left;background-color: #f0f8ff;}#sk-container-id-1 div.sk-toggleable__content pre {margin: 0.2em;color: black;border-radius: 0.25em;background-color: #f0f8ff;}#sk-container-id-1 input.sk-toggleable__control:checked~div.sk-toggleable__content {max-height: 200px;max-width: 100%;overflow: auto;}#sk-container-id-1 input.sk-toggleable__control:checked~label.sk-toggleable__label-arrow:before {content: \"▾\";}#sk-container-id-1 div.sk-estimator input.sk-toggleable__control:checked~label.sk-toggleable__label {background-color: #d4ebff;}#sk-container-id-1 div.sk-label input.sk-toggleable__control:checked~label.sk-toggleable__label {background-color: #d4ebff;}#sk-container-id-1 input.sk-hidden--visually {border: 0;clip: rect(1px 1px 1px 1px);clip: rect(1px, 1px, 1px, 1px);height: 1px;margin: -1px;overflow: hidden;padding: 0;position: absolute;width: 1px;}#sk-container-id-1 div.sk-estimator {font-family: monospace;background-color: #f0f8ff;border: 1px dotted black;border-radius: 0.25em;box-sizing: border-box;margin-bottom: 0.5em;}#sk-container-id-1 div.sk-estimator:hover {background-color: #d4ebff;}#sk-container-id-1 div.sk-parallel-item::after {content: \"\";width: 100%;border-bottom: 1px solid gray;flex-grow: 1;}#sk-container-id-1 div.sk-label:hover label.sk-toggleable__label {background-color: #d4ebff;}#sk-container-id-1 div.sk-serial::before {content: \"\";position: absolute;border-left: 1px solid gray;box-sizing: border-box;top: 0;bottom: 0;left: 50%;z-index: 0;}#sk-container-id-1 div.sk-serial {display: flex;flex-direction: column;align-items: center;background-color: white;padding-right: 0.2em;padding-left: 0.2em;position: relative;}#sk-container-id-1 div.sk-item {position: relative;z-index: 1;}#sk-container-id-1 div.sk-parallel {display: flex;align-items: stretch;justify-content: center;background-color: white;position: relative;}#sk-container-id-1 div.sk-item::before, #sk-container-id-1 div.sk-parallel-item::before {content: \"\";position: absolute;border-left: 1px solid gray;box-sizing: border-box;top: 0;bottom: 0;left: 50%;z-index: -1;}#sk-container-id-1 div.sk-parallel-item {display: flex;flex-direction: column;z-index: 1;position: relative;background-color: white;}#sk-container-id-1 div.sk-parallel-item:first-child::after {align-self: flex-end;width: 50%;}#sk-container-id-1 div.sk-parallel-item:last-child::after {align-self: flex-start;width: 50%;}#sk-container-id-1 div.sk-parallel-item:only-child::after {width: 0;}#sk-container-id-1 div.sk-dashed-wrapped {border: 1px dashed gray;margin: 0 0.4em 0.5em 0.4em;box-sizing: border-box;padding-bottom: 0.4em;background-color: white;}#sk-container-id-1 div.sk-label label {font-family: monospace;font-weight: bold;display: inline-block;line-height: 1.2em;}#sk-container-id-1 div.sk-label-container {text-align: center;}#sk-container-id-1 div.sk-container {/* jupyter's `normalize.less` sets `[hidden] { display: none; }` but bootstrap.min.css set `[hidden] { display: none !important; }` so we also need the `!important` here to be able to override the default hidden behavior on the sphinx rendered scikit-learn.org. See: https://github.com/scikit-learn/scikit-learn/issues/21755 */display: inline-block !important;position: relative;}#sk-container-id-1 div.sk-text-repr-fallback {display: none;}</style><div id=\"sk-container-id-1\" class=\"sk-top-container\"><div class=\"sk-text-repr-fallback\"><pre>RandomForestClassifier(max_depth=10, max_features=&#x27;log2&#x27;, n_estimators=2000,\n",
              "                       random_state=42)</pre><b>In a Jupyter environment, please rerun this cell to show the HTML representation or trust the notebook. <br />On GitHub, the HTML representation is unable to render, please try loading this page with nbviewer.org.</b></div><div class=\"sk-container\" hidden><div class=\"sk-item\"><div class=\"sk-estimator sk-toggleable\"><input class=\"sk-toggleable__control sk-hidden--visually\" id=\"sk-estimator-id-1\" type=\"checkbox\" checked><label for=\"sk-estimator-id-1\" class=\"sk-toggleable__label sk-toggleable__label-arrow\">RandomForestClassifier</label><div class=\"sk-toggleable__content\"><pre>RandomForestClassifier(max_depth=10, max_features=&#x27;log2&#x27;, n_estimators=2000,\n",
              "                       random_state=42)</pre></div></div></div></div></div>"
            ],
            "text/plain": [
              "RandomForestClassifier(max_depth=10, max_features='log2', n_estimators=2000,\n",
              "                       random_state=42)"
            ]
          },
          "execution_count": 11,
          "metadata": {},
          "output_type": "execute_result"
        }
      ],
      "source": [
        "# Training tuned model\n",
        "rf_random_w50 =  RandomForestClassifier(\n",
        "    bootstrap = True,\n",
        "    criterion='gini',\n",
        "    max_depth=10,\n",
        "    max_features='log2',\n",
        "    min_samples_leaf=1,\n",
        "    min_samples_split=2,\n",
        "    n_estimators=2000,\n",
        "    random_state=random_seed)\n",
        "\n",
        "rf_random_w50.fit(X_train50,y_train50)"
      ]
    },
    {
      "cell_type": "code",
      "execution_count": 12,
      "metadata": {},
      "outputs": [
        {
          "name": "stdout",
          "output_type": "stream",
          "text": [
            "Confusion matrix: \n"
          ]
        },
        {
          "data": {
            "image/png": "[encoded data removed]",
            "text/plain": [
              "<Figure size 640x480 with 2 Axes>"
            ]
          },
          "metadata": {},
          "output_type": "display_data"
        },
        {
          "name": "stdout",
          "output_type": "stream",
          "text": [
            "Model Performance: \n",
            "\n",
            "accuracy = 78.09%.\n",
            "recall = 54.67%.\n",
            "precision = 81.19%.\n",
            "f1_score = 65.34%.\n",
            "The tuned model had an improvement of 1.97%. respect the base model\n"
          ]
        }
      ],
      "source": [
        "#Computing the tuned model accuracy                                 \n",
        "rf_random_metrics_w50 = evaluate(rf_random_w50, X_val50, y_val50,conf_matrix=True)\n",
        "\n",
        "print('The tuned model had an improvement of {:0.2f}%. respect the base model'\n",
        "        .format( 100 * (rf_random_metrics_w50[0] - rf_base_metrics_w50[0]) / rf_base_metrics_w50[0]))\n"
      ]
    },
    {
      "cell_type": "markdown",
      "metadata": {
        "id": "Tn7bBWQxG7Rq"
      },
      "source": [
        "#### Grid Search with Cross Validation\n",
        "Random search allowed us to narrow down the range for each hyperparameter. Now that we know where to concentrate our search, we can explicitly specify every combination of settings to try. We do this with GridSearchCV, a method that, instead of sampling randomly from a distribution, evaluates all combinations we define. To use Grid Search, we make another grid based on the best values provided by random search:"
      ]
    },
    {
      "cell_type": "code",
      "execution_count": 13,
      "metadata": {
        "id": "nhJM11u3G7Rv"
      },
      "outputs": [
        {
          "data": {
            "text/plain": [
              "{'n_estimators': 2000,\n",
              " 'min_samples_split': 2,\n",
              " 'min_samples_leaf': 1,\n",
              " 'max_features': 'log2',\n",
              " 'max_depth': 10,\n",
              " 'criterion': 'gini',\n",
              " 'bootstrap': True}"
            ]
          },
          "execution_count": 13,
          "metadata": {},
          "output_type": "execute_result"
        }
      ],
      "source": [
        "#Defining Random Forest Claasifier\n",
        "rf = RandomForestClassifier(random_state = random_seed)\n",
        "rf_random_search_w50.best_params_"
      ]
    },
    {
      "cell_type": "code",
      "execution_count": 14,
      "metadata": {
        "colab": {
          "base_uri": "https://localhost:8080/"
        },
        "id": "39nSv82_G7Rw",
        "outputId": "c3d36b5a-42c5-4c3c-b2cb-77ee12d712d8"
      },
      "outputs": [],
      "source": [
        "\n",
        "# Create the parameter grid based on the results of random search \n",
        "param_grid = {\n",
        "    'bootstrap': [True],\n",
        "    'criterion':['gini'],\n",
        "    'max_depth': [8,10,12],\n",
        "    'max_features': ['log2'],\n",
        "    'min_samples_leaf': [1,2,3],\n",
        "    'min_samples_split': [1,2,3],\n",
        "    'n_estimators': [1800,1900,2000]\n",
        "}\n",
        "# Instantiate the grid search model\n",
        "rf_grid_search_w50 = GridSearchCV(\n",
        "    estimator = rf, \n",
        "    param_grid = param_grid, \n",
        "    cv = 5, n_jobs = -1, \n",
        "    verbose = 1)\n",
        "                         \n",
        "#rf_grid_search_w50.fit(X_train50, y_train50)"
      ]
    },
    {
      "cell_type": "markdown",
      "metadata": {
        "id": "QAAOB-ZEG7Rx"
      },
      "source": [
        "##### Save and load the model"
      ]
    },
    {
      "cell_type": "code",
      "execution_count": 15,
      "metadata": {
        "id": "y1CvX1QKG7Rx"
      },
      "outputs": [
        {
          "data": {
            "text/plain": [
              "{'bootstrap': True,\n",
              " 'criterion': 'gini',\n",
              " 'max_depth': 10,\n",
              " 'max_features': 'log2',\n",
              " 'min_samples_leaf': 1,\n",
              " 'min_samples_split': 3,\n",
              " 'n_estimators': 1800}"
            ]
          },
          "execution_count": 15,
          "metadata": {},
          "output_type": "execute_result"
        }
      ],
      "source": [
        "#pickle.dump(rf_grid_search_w50.best_params_, open('Models50/Random_Forest_gs_w50.pkl', 'wb'))\n",
        "rf_params_best_grid_w50 = pickle.load(open('Models50/Random_Forest_gs_w50.pkl', 'rb'))\n",
        "rf_params_best_grid_w50"
      ]
    },
    {
      "cell_type": "markdown",
      "metadata": {
        "id": "gcSSkeVIG7Ry"
      },
      "source": [
        "##### Comparing base model with tuned model with Grid Search\n",
        "To check if we are going in right direction we will compare the base model without tuning of parameters with the tuned model comparing the accuracy of both models on validation set"
      ]
    },
    {
      "cell_type": "code",
      "execution_count": 16,
      "metadata": {
        "colab": {
          "base_uri": "https://localhost:8080/",
          "height": 436
        },
        "id": "6EYXuA96G7Rz",
        "outputId": "b9690182-46e2-444e-8fc2-2f44a1e7013f"
      },
      "outputs": [
        {
          "data": {
            "text/html": [
              "<style>#sk-container-id-2 {color: black;background-color: white;}#sk-container-id-2 pre{padding: 0;}#sk-container-id-2 div.sk-toggleable {background-color: white;}#sk-container-id-2 label.sk-toggleable__label {cursor: pointer;display: block;width: 100%;margin-bottom: 0;padding: 0.3em;box-sizing: border-box;text-align: center;}#sk-container-id-2 label.sk-toggleable__label-arrow:before {content: \"▸\";float: left;margin-right: 0.25em;color: #696969;}#sk-container-id-2 label.sk-toggleable__label-arrow:hover:before {color: black;}#sk-container-id-2 div.sk-estimator:hover label.sk-toggleable__label-arrow:before {color: black;}#sk-container-id-2 div.sk-toggleable__content {max-height: 0;max-width: 0;overflow: hidden;text-align: left;background-color: #f0f8ff;}#sk-container-id-2 div.sk-toggleable__content pre {margin: 0.2em;color: black;border-radius: 0.25em;background-color: #f0f8ff;}#sk-container-id-2 input.sk-toggleable__control:checked~div.sk-toggleable__content {max-height: 200px;max-width: 100%;overflow: auto;}#sk-container-id-2 input.sk-toggleable__control:checked~label.sk-toggleable__label-arrow:before {content: \"▾\";}#sk-container-id-2 div.sk-estimator input.sk-toggleable__control:checked~label.sk-toggleable__label {background-color: #d4ebff;}#sk-container-id-2 div.sk-label input.sk-toggleable__control:checked~label.sk-toggleable__label {background-color: #d4ebff;}#sk-container-id-2 input.sk-hidden--visually {border: 0;clip: rect(1px 1px 1px 1px);clip: rect(1px, 1px, 1px, 1px);height: 1px;margin: -1px;overflow: hidden;padding: 0;position: absolute;width: 1px;}#sk-container-id-2 div.sk-estimator {font-family: monospace;background-color: #f0f8ff;border: 1px dotted black;border-radius: 0.25em;box-sizing: border-box;margin-bottom: 0.5em;}#sk-container-id-2 div.sk-estimator:hover {background-color: #d4ebff;}#sk-container-id-2 div.sk-parallel-item::after {content: \"\";width: 100%;border-bottom: 1px solid gray;flex-grow: 1;}#sk-container-id-2 div.sk-label:hover label.sk-toggleable__label {background-color: #d4ebff;}#sk-container-id-2 div.sk-serial::before {content: \"\";position: absolute;border-left: 1px solid gray;box-sizing: border-box;top: 0;bottom: 0;left: 50%;z-index: 0;}#sk-container-id-2 div.sk-serial {display: flex;flex-direction: column;align-items: center;background-color: white;padding-right: 0.2em;padding-left: 0.2em;position: relative;}#sk-container-id-2 div.sk-item {position: relative;z-index: 1;}#sk-container-id-2 div.sk-parallel {display: flex;align-items: stretch;justify-content: center;background-color: white;position: relative;}#sk-container-id-2 div.sk-item::before, #sk-container-id-2 div.sk-parallel-item::before {content: \"\";position: absolute;border-left: 1px solid gray;box-sizing: border-box;top: 0;bottom: 0;left: 50%;z-index: -1;}#sk-container-id-2 div.sk-parallel-item {display: flex;flex-direction: column;z-index: 1;position: relative;background-color: white;}#sk-container-id-2 div.sk-parallel-item:first-child::after {align-self: flex-end;width: 50%;}#sk-container-id-2 div.sk-parallel-item:last-child::after {align-self: flex-start;width: 50%;}#sk-container-id-2 div.sk-parallel-item:only-child::after {width: 0;}#sk-container-id-2 div.sk-dashed-wrapped {border: 1px dashed gray;margin: 0 0.4em 0.5em 0.4em;box-sizing: border-box;padding-bottom: 0.4em;background-color: white;}#sk-container-id-2 div.sk-label label {font-family: monospace;font-weight: bold;display: inline-block;line-height: 1.2em;}#sk-container-id-2 div.sk-label-container {text-align: center;}#sk-container-id-2 div.sk-container {/* jupyter's `normalize.less` sets `[hidden] { display: none; }` but bootstrap.min.css set `[hidden] { display: none !important; }` so we also need the `!important` here to be able to override the default hidden behavior on the sphinx rendered scikit-learn.org. See: https://github.com/scikit-learn/scikit-learn/issues/21755 */display: inline-block !important;position: relative;}#sk-container-id-2 div.sk-text-repr-fallback {display: none;}</style><div id=\"sk-container-id-2\" class=\"sk-top-container\"><div class=\"sk-text-repr-fallback\"><pre>RandomForestClassifier(max_depth=10, max_features=&#x27;log2&#x27;, min_samples_split=3,\n",
              "                       n_estimators=1800, random_state=42)</pre><b>In a Jupyter environment, please rerun this cell to show the HTML representation or trust the notebook. <br />On GitHub, the HTML representation is unable to render, please try loading this page with nbviewer.org.</b></div><div class=\"sk-container\" hidden><div class=\"sk-item\"><div class=\"sk-estimator sk-toggleable\"><input class=\"sk-toggleable__control sk-hidden--visually\" id=\"sk-estimator-id-2\" type=\"checkbox\" checked><label for=\"sk-estimator-id-2\" class=\"sk-toggleable__label sk-toggleable__label-arrow\">RandomForestClassifier</label><div class=\"sk-toggleable__content\"><pre>RandomForestClassifier(max_depth=10, max_features=&#x27;log2&#x27;, min_samples_split=3,\n",
              "                       n_estimators=1800, random_state=42)</pre></div></div></div></div></div>"
            ],
            "text/plain": [
              "RandomForestClassifier(max_depth=10, max_features='log2', min_samples_split=3,\n",
              "                       n_estimators=1800, random_state=42)"
            ]
          },
          "execution_count": 16,
          "metadata": {},
          "output_type": "execute_result"
        }
      ],
      "source": [
        "# Training tuned model\n",
        "rf_final_w50 =  RandomForestClassifier(\n",
        "    bootstrap = True,\n",
        "    criterion='gini',\n",
        "    max_depth=10,\n",
        "    max_features='log2',\n",
        "    min_samples_leaf=1,\n",
        "    min_samples_split=3,\n",
        "    n_estimators=1800,\n",
        "    random_state=random_seed)\n",
        "\n",
        "rf_final_w50.fit(X_train50,y_train50)"
      ]
    },
    {
      "cell_type": "code",
      "execution_count": 17,
      "metadata": {},
      "outputs": [
        {
          "name": "stdout",
          "output_type": "stream",
          "text": [
            "Confusion matrix: \n"
          ]
        },
        {
          "data": {
            "image/png": "[encoded data removed]",
            "text/plain": [
              "<Figure size 640x480 with 2 Axes>"
            ]
          },
          "metadata": {},
          "output_type": "display_data"
        },
        {
          "name": "stdout",
          "output_type": "stream",
          "text": [
            "Model Performance: \n",
            "\n",
            "accuracy = 77.83%.\n",
            "recall = 54.00%.\n",
            "precision = 81.00%.\n",
            "f1_score = 64.80%.\n",
            "The tuned model with grid search had an improvement of 1.64%. respect the base model\n",
            "The tuned model with grid search had an improvement of -0.32%. respect the tuned  model with random search\n"
          ]
        }
      ],
      "source": [
        "#Computing the tuned model accuracy                                 \n",
        "rf_grid_metrics_w50 = evaluate(rf_final_w50, X_val50, y_val50,conf_matrix=True)\n",
        "\n",
        "print('The tuned model with grid search had an improvement of {:0.2f}%. respect the base model'\n",
        "                        .format( 100 * (rf_grid_metrics_w50[0] - rf_base_metrics_w50[0]) / rf_base_metrics_w50[0]))\n",
        "\n",
        "print('The tuned model with grid search had an improvement of {:0.2f}%. respect the tuned  model with random search'\n",
        "                        .format( 100 * (rf_grid_metrics_w50[0] - rf_random_metrics_w50[0]) / rf_random_metrics_w50[0]))"
      ]
    },
    {
      "cell_type": "markdown",
      "metadata": {
        "id": "HMcKlWmRG7Rz"
      },
      "source": [
        "### Gradient Boosting\n",
        "In this part of the report we will train the Gradient Boosting on Water100, that one with all the Nan values imputed.\n",
        "\n",
        "In boosting, the individual models are not built on completely random subsets of data and features but sequentially by putting more weight on instances with wrong predictions and high errors. The general idea behind this is that instances, which are hard to predict correctly (“difficult” cases) will be focused on during learning, so that the model learns from past mistakes. When we train each ensemble on a subset of the training set, we also call this Stochastic Gradient Boosting, which can help improve generalizability of our model.The gradient is used to minimize a loss function, similar to how Neural Nets utilize gradient descent to optimize (“learn”) weights. \n",
        "\n",
        "Source: [link](https://scikit-learn.org/stable/modules/generated/sklearn.ensemble.GradientBoostingClassifier.html)"
      ]
    },
    {
      "cell_type": "code",
      "execution_count": 18,
      "metadata": {
        "colab": {
          "base_uri": "https://localhost:8080/",
          "height": 405
        },
        "id": "fA1ZgdfdG7R0",
        "outputId": "116744c3-bd0a-40fe-901b-52db233ddc5a"
      },
      "outputs": [
        {
          "name": "stdout",
          "output_type": "stream",
          "text": [
            "Confusion matrix: \n"
          ]
        },
        {
          "data": {
            "image/png": "[encoded data removed]",
            "text/plain": [
              "<Figure size 640x480 with 2 Axes>"
            ]
          },
          "metadata": {},
          "output_type": "display_data"
        },
        {
          "name": "stdout",
          "output_type": "stream",
          "text": [
            "Model Performance: \n",
            "\n",
            "accuracy = 74.81%.\n",
            "recall = 48.67%.\n",
            "precision = 76.04%.\n",
            "f1_score = 59.35%.\n"
          ]
        }
      ],
      "source": [
        "# Training base model\n",
        "gb_base_w50 = GradientBoostingClassifier( random_state = random_seed)\n",
        "gb_base_w50.fit(X_train50, y_train50)\n",
        "#Computing the base model accuracy\n",
        "gb_base_metrics_w50= evaluate(gb_base_w50, X_val50, y_val50,conf_matrix=True)"
      ]
    },
    {
      "cell_type": "markdown",
      "metadata": {
        "id": "SSFNfeI4G7R1"
      },
      "source": [
        "### Random Search with Cross Validation"
      ]
    },
    {
      "cell_type": "code",
      "execution_count": 19,
      "metadata": {
        "colab": {
          "base_uri": "https://localhost:8080/"
        },
        "id": "-sUnhzxvG7R1",
        "outputId": "08422ea4-96a9-4a36-e3b5-f95187c57c2c"
      },
      "outputs": [
        {
          "name": "stdout",
          "output_type": "stream",
          "text": [
            "Parameters currently in use:\n",
            "\n",
            "{'ccp_alpha': 0.0,\n",
            " 'criterion': 'friedman_mse',\n",
            " 'init': None,\n",
            " 'learning_rate': 0.1,\n",
            " 'loss': 'log_loss',\n",
            " 'max_depth': 3,\n",
            " 'max_features': None,\n",
            " 'max_leaf_nodes': None,\n",
            " 'min_impurity_decrease': 0.0,\n",
            " 'min_samples_leaf': 1,\n",
            " 'min_samples_split': 2,\n",
            " 'min_weight_fraction_leaf': 0.0,\n",
            " 'n_estimators': 100,\n",
            " 'n_iter_no_change': None,\n",
            " 'random_state': 42,\n",
            " 'subsample': 1.0,\n",
            " 'tol': 0.0001,\n",
            " 'validation_fraction': 0.1,\n",
            " 'verbose': 0,\n",
            " 'warm_start': False}\n"
          ]
        }
      ],
      "source": [
        "#Defining Random Forest Claasifier\n",
        "gb = GradientBoostingClassifier(random_state = random_seed)\n",
        "# Look at parameters used by our current forest\n",
        "print('Parameters currently in use:\\n')\n",
        "pprint(gb.get_params())"
      ]
    },
    {
      "cell_type": "code",
      "execution_count": 20,
      "metadata": {
        "colab": {
          "base_uri": "https://localhost:8080/"
        },
        "id": "wbiSwU9SG7R2",
        "outputId": "d6840039-31e1-4901-c6cb-dcfbc3033726"
      },
      "outputs": [
        {
          "name": "stdout",
          "output_type": "stream",
          "text": [
            "{'criterion': ['friedman_mse', 'squared_error'],\n",
            " 'learning_rate': [0.001, 0.01, 0.1],\n",
            " 'loss': ['log_loss', 'exponential'],\n",
            " 'max_depth': [10, 20, 30, 40, 50, 60, 70, 80, 90, 100, 110, None],\n",
            " 'max_features': ['auto', 'sqrt', 'log2', None],\n",
            " 'min_samples_leaf': [1, 2, 4],\n",
            " 'min_samples_split': [2, 5, 10],\n",
            " 'n_estimators': [200, 400, 600, 800, 1000, 1200, 1400, 1600, 1800, 2000, None]}\n"
          ]
        }
      ],
      "source": [
        "# Create the random grid\n",
        "params_grid = {# The loss function to be optimized.\n",
        "               'loss': ['log_loss','exponential'],\n",
        "               # Learning rate shrinks the contribution of each tree by learning_rate\n",
        "               'learning_rate':[0.001,0.01,0.1],\n",
        "               # Number of trees in random forest\n",
        "               'n_estimators': [int(x) for x in np.linspace(start = 200, stop = 2000, num = 10)]+[None],\n",
        "               # Number of features to consider at every split\n",
        "               'max_features': ['auto', 'sqrt','log2',None],\n",
        "               # Maximum number of levels in tree\n",
        "               'max_depth':  [int(x) for x in np.linspace(10, 110, num = 11)]+[None],\n",
        "               # Minimum number of samples required to split a node\n",
        "               'min_samples_split': [2, 5, 10],\n",
        "               # Minimum number of samples required at each leaf node\n",
        "               'min_samples_leaf': [1, 2, 4],\n",
        "               # Metrics  to measure the quality of a split.\n",
        "               'criterion':['friedman_mse','squared_error']}\n",
        "pprint(params_grid)\n",
        "\n",
        "# Random search of parameters, using 3 fold cross validation, search across 100 different combinations, and use all available cores\n",
        "gb_random_search_w50 = RandomizedSearchCV(\n",
        "    estimator = gb, \n",
        "    param_distributions = params_grid,\n",
        "    n_iter = 100, cv = 3, \n",
        "    verbose=3, \n",
        "    random_state=random_seed, \n",
        "    n_jobs = -1)\n",
        "\n",
        "#gb_random_search_w50.fit(X_train50, y_train50)"
      ]
    },
    {
      "attachments": {},
      "cell_type": "markdown",
      "metadata": {},
      "source": [
        "Actually if we used all the possible combinations we should train the Gradient Boosting 103000 times without considering the cross validation for each combinations, that would require a computational time too high, for this reason initially we will use the random search using only 100 random combinations among those available"
      ]
    },
    {
      "cell_type": "markdown",
      "metadata": {
        "id": "lDBEc8wwG7R3"
      },
      "source": [
        "#### Store and Load Models\n",
        "To avoid  traininig each time the models we will save after every training of the models the results inside *Models folder* using pickle library"
      ]
    },
    {
      "cell_type": "code",
      "execution_count": 21,
      "metadata": {
        "id": "mbf-SY2TG7R3"
      },
      "outputs": [
        {
          "data": {
            "text/plain": [
              "{'n_estimators': 1200,\n",
              " 'min_samples_split': 2,\n",
              " 'min_samples_leaf': 2,\n",
              " 'max_features': 'sqrt',\n",
              " 'max_depth': 10,\n",
              " 'loss': 'exponential',\n",
              " 'learning_rate': 0.1,\n",
              " 'criterion': 'friedman_mse'}"
            ]
          },
          "execution_count": 21,
          "metadata": {},
          "output_type": "execute_result"
        }
      ],
      "source": [
        "#Saving\n",
        "#pickle.dump(gb_random_search_w50.best_params_, open('Models50/Gradient_Boosting_rs_w50.pkl', 'wb'))\n",
        "#Loading\n",
        "gb_params_best_random_w50=pickle.load(open('Models50/Gradient_Boosting_rs_w50.pkl', 'rb'))\n",
        "gb_params_best_random_w50"
      ]
    },
    {
      "cell_type": "markdown",
      "metadata": {
        "id": "cTGBg8XlG7R4"
      },
      "source": [
        "#### Comparing base model with tuned model with Random Search\n",
        "To check if we are going in right direction we will compare the base model without tuning of parameters with the tuned model, comparing the accuracy of both models on validation set"
      ]
    },
    {
      "cell_type": "code",
      "execution_count": 22,
      "metadata": {
        "colab": {
          "base_uri": "https://localhost:8080/",
          "height": 418
        },
        "id": "SjJQ1Sb-G7R4",
        "outputId": "51797b51-9110-4fdf-c779-dda0e8f3ad45"
      },
      "outputs": [
        {
          "data": {
            "text/html": [
              "<style>#sk-container-id-3 {color: black;background-color: white;}#sk-container-id-3 pre{padding: 0;}#sk-container-id-3 div.sk-toggleable {background-color: white;}#sk-container-id-3 label.sk-toggleable__label {cursor: pointer;display: block;width: 100%;margin-bottom: 0;padding: 0.3em;box-sizing: border-box;text-align: center;}#sk-container-id-3 label.sk-toggleable__label-arrow:before {content: \"▸\";float: left;margin-right: 0.25em;color: #696969;}#sk-container-id-3 label.sk-toggleable__label-arrow:hover:before {color: black;}#sk-container-id-3 div.sk-estimator:hover label.sk-toggleable__label-arrow:before {color: black;}#sk-container-id-3 div.sk-toggleable__content {max-height: 0;max-width: 0;overflow: hidden;text-align: left;background-color: #f0f8ff;}#sk-container-id-3 div.sk-toggleable__content pre {margin: 0.2em;color: black;border-radius: 0.25em;background-color: #f0f8ff;}#sk-container-id-3 input.sk-toggleable__control:checked~div.sk-toggleable__content {max-height: 200px;max-width: 100%;overflow: auto;}#sk-container-id-3 input.sk-toggleable__control:checked~label.sk-toggleable__label-arrow:before {content: \"▾\";}#sk-container-id-3 div.sk-estimator input.sk-toggleable__control:checked~label.sk-toggleable__label {background-color: #d4ebff;}#sk-container-id-3 div.sk-label input.sk-toggleable__control:checked~label.sk-toggleable__label {background-color: #d4ebff;}#sk-container-id-3 input.sk-hidden--visually {border: 0;clip: rect(1px 1px 1px 1px);clip: rect(1px, 1px, 1px, 1px);height: 1px;margin: -1px;overflow: hidden;padding: 0;position: absolute;width: 1px;}#sk-container-id-3 div.sk-estimator {font-family: monospace;background-color: #f0f8ff;border: 1px dotted black;border-radius: 0.25em;box-sizing: border-box;margin-bottom: 0.5em;}#sk-container-id-3 div.sk-estimator:hover {background-color: #d4ebff;}#sk-container-id-3 div.sk-parallel-item::after {content: \"\";width: 100%;border-bottom: 1px solid gray;flex-grow: 1;}#sk-container-id-3 div.sk-label:hover label.sk-toggleable__label {background-color: #d4ebff;}#sk-container-id-3 div.sk-serial::before {content: \"\";position: absolute;border-left: 1px solid gray;box-sizing: border-box;top: 0;bottom: 0;left: 50%;z-index: 0;}#sk-container-id-3 div.sk-serial {display: flex;flex-direction: column;align-items: center;background-color: white;padding-right: 0.2em;padding-left: 0.2em;position: relative;}#sk-container-id-3 div.sk-item {position: relative;z-index: 1;}#sk-container-id-3 div.sk-parallel {display: flex;align-items: stretch;justify-content: center;background-color: white;position: relative;}#sk-container-id-3 div.sk-item::before, #sk-container-id-3 div.sk-parallel-item::before {content: \"\";position: absolute;border-left: 1px solid gray;box-sizing: border-box;top: 0;bottom: 0;left: 50%;z-index: -1;}#sk-container-id-3 div.sk-parallel-item {display: flex;flex-direction: column;z-index: 1;position: relative;background-color: white;}#sk-container-id-3 div.sk-parallel-item:first-child::after {align-self: flex-end;width: 50%;}#sk-container-id-3 div.sk-parallel-item:last-child::after {align-self: flex-start;width: 50%;}#sk-container-id-3 div.sk-parallel-item:only-child::after {width: 0;}#sk-container-id-3 div.sk-dashed-wrapped {border: 1px dashed gray;margin: 0 0.4em 0.5em 0.4em;box-sizing: border-box;padding-bottom: 0.4em;background-color: white;}#sk-container-id-3 div.sk-label label {font-family: monospace;font-weight: bold;display: inline-block;line-height: 1.2em;}#sk-container-id-3 div.sk-label-container {text-align: center;}#sk-container-id-3 div.sk-container {/* jupyter's `normalize.less` sets `[hidden] { display: none; }` but bootstrap.min.css set `[hidden] { display: none !important; }` so we also need the `!important` here to be able to override the default hidden behavior on the sphinx rendered scikit-learn.org. See: https://github.com/scikit-learn/scikit-learn/issues/21755 */display: inline-block !important;position: relative;}#sk-container-id-3 div.sk-text-repr-fallback {display: none;}</style><div id=\"sk-container-id-3\" class=\"sk-top-container\"><div class=\"sk-text-repr-fallback\"><pre>GradientBoostingClassifier(loss=&#x27;exponential&#x27;, max_depth=10,\n",
              "                           max_features=&#x27;sqrt&#x27;, min_samples_leaf=2,\n",
              "                           n_estimators=1200, random_state=42)</pre><b>In a Jupyter environment, please rerun this cell to show the HTML representation or trust the notebook. <br />On GitHub, the HTML representation is unable to render, please try loading this page with nbviewer.org.</b></div><div class=\"sk-container\" hidden><div class=\"sk-item\"><div class=\"sk-estimator sk-toggleable\"><input class=\"sk-toggleable__control sk-hidden--visually\" id=\"sk-estimator-id-3\" type=\"checkbox\" checked><label for=\"sk-estimator-id-3\" class=\"sk-toggleable__label sk-toggleable__label-arrow\">GradientBoostingClassifier</label><div class=\"sk-toggleable__content\"><pre>GradientBoostingClassifier(loss=&#x27;exponential&#x27;, max_depth=10,\n",
              "                           max_features=&#x27;sqrt&#x27;, min_samples_leaf=2,\n",
              "                           n_estimators=1200, random_state=42)</pre></div></div></div></div></div>"
            ],
            "text/plain": [
              "GradientBoostingClassifier(loss='exponential', max_depth=10,\n",
              "                           max_features='sqrt', min_samples_leaf=2,\n",
              "                           n_estimators=1200, random_state=42)"
            ]
          },
          "execution_count": 22,
          "metadata": {},
          "output_type": "execute_result"
        }
      ],
      "source": [
        "# Training tuned model\n",
        "gb_random_w50 =  GradientBoostingClassifier(\n",
        "    loss='exponential',\n",
        "    max_depth=10,\n",
        "    max_features='sqrt',\n",
        "    min_samples_leaf=2,\n",
        "    min_samples_split=2,\n",
        "    n_estimators=1200,\n",
        "    learning_rate=0.1,\n",
        "    criterion='friedman_mse',\n",
        "    random_state=random_seed)\n",
        "\n",
        "gb_random_w50.fit(X_train50,y_train50)"
      ]
    },
    {
      "cell_type": "code",
      "execution_count": 23,
      "metadata": {},
      "outputs": [
        {
          "name": "stdout",
          "output_type": "stream",
          "text": [
            "Confusion matrix: \n"
          ]
        },
        {
          "data": {
            "image/png": "[encoded data removed]",
            "text/plain": [
              "<Figure size 640x480 with 2 Axes>"
            ]
          },
          "metadata": {},
          "output_type": "display_data"
        },
        {
          "name": "stdout",
          "output_type": "stream",
          "text": [
            "Model Performance: \n",
            "\n",
            "accuracy = 76.32%.\n",
            "recall = 58.00%.\n",
            "precision = 73.73%.\n",
            "f1_score = 64.93%.\n",
            "The tuned model with random search had an improvement of 2.02%. respect the base model\n"
          ]
        }
      ],
      "source": [
        "#Computing the tuned model accuracy                                 \n",
        "gb_random_metrics_w50= evaluate(gb_random_w50, X_val50, y_val50,conf_matrix=True)\n",
        "\n",
        "print('The tuned model with random search had an improvement of {:0.2f}%. respect the base model'\n",
        "                        .format( 100 * (gb_random_metrics_w50[0] - gb_base_metrics_w50[0]) / gb_base_metrics_w50[0]))"
      ]
    },
    {
      "cell_type": "markdown",
      "metadata": {
        "id": "pqaR82IVG7R5"
      },
      "source": [
        "#### Grid Search with Cross Validation\n",
        "Random search allowed us to narrow down the range for each hyperparameter. Now that we know where to concentrate our search, we can explicitly specify every combination of settings to try. We do this with GridSearchCV, a method that, instead of sampling randomly from a distribution, evaluates all combinations we define. To use Grid Search, we make another grid based on the best values provided by random search:"
      ]
    },
    {
      "cell_type": "code",
      "execution_count": 24,
      "metadata": {
        "colab": {
          "base_uri": "https://localhost:8080/"
        },
        "id": "ldQmB8_xG7R6",
        "outputId": "49f9d886-7e0c-4f6a-f76b-6566d75528a3"
      },
      "outputs": [
        {
          "data": {
            "text/plain": [
              "{'n_estimators': 1200,\n",
              " 'min_samples_split': 2,\n",
              " 'min_samples_leaf': 2,\n",
              " 'max_features': 'sqrt',\n",
              " 'max_depth': 10,\n",
              " 'loss': 'exponential',\n",
              " 'learning_rate': 0.1,\n",
              " 'criterion': 'friedman_mse'}"
            ]
          },
          "execution_count": 24,
          "metadata": {},
          "output_type": "execute_result"
        }
      ],
      "source": [
        "gb_params_best_random_w50"
      ]
    },
    {
      "cell_type": "code",
      "execution_count": 25,
      "metadata": {
        "colab": {
          "base_uri": "https://localhost:8080/"
        },
        "id": "QZcyvig7G7R8",
        "outputId": "1e36cdd1-8d2b-4c74-ca25-900a9d64ef8a"
      },
      "outputs": [],
      "source": [
        "# Create the parameter grid based on the results of random search \n",
        "params_grid = {\n",
        "    'loss': ['exponential'],\n",
        "    'learning_rate': [0.1],\n",
        "    'criterion':['friedman_mse'],\n",
        "    'max_depth': [5,10,15],\n",
        "    'max_features': ['sqrt'],\n",
        "    'min_samples_leaf': [1,2,3],\n",
        "    'min_samples_split': [1,2,3],\n",
        "    'n_estimators': [1100,1200,1300]\n",
        "}\n",
        "# Instantiate the grid search model\n",
        "gb_grid_search_w50 = GridSearchCV(\n",
        "    estimator = gb, \n",
        "    param_grid = params_grid, \n",
        "    cv = 5, \n",
        "    n_jobs = -1, \n",
        "    verbose = 3)\n",
        "\n",
        "#gb_grid_search_w50.fit(X_train50, y_train50)"
      ]
    },
    {
      "cell_type": "markdown",
      "metadata": {
        "id": "NPKiQUunG7R9"
      },
      "source": [
        "#### Store and Load Models"
      ]
    },
    {
      "cell_type": "code",
      "execution_count": 26,
      "metadata": {
        "id": "g6_C6LqJG7SA"
      },
      "outputs": [
        {
          "data": {
            "text/plain": [
              "{'criterion': 'friedman_mse',\n",
              " 'learning_rate': 0.1,\n",
              " 'loss': 'exponential',\n",
              " 'max_depth': 15,\n",
              " 'max_features': 'sqrt',\n",
              " 'min_samples_leaf': 3,\n",
              " 'min_samples_split': 2,\n",
              " 'n_estimators': 1100}"
            ]
          },
          "execution_count": 26,
          "metadata": {},
          "output_type": "execute_result"
        }
      ],
      "source": [
        "#Saving\n",
        "#pickle.dump(gb_grid_search_w50.best_params_, open('Models50/Gradient_Boosting_gs_w50.pkl', 'wb'))\n",
        "#Loading\n",
        "gb_params_best_grid_w50=pickle.load(open('Models50/Gradient_Boosting_gs_w50.pkl', 'rb'))\n",
        "gb_params_best_grid_w50"
      ]
    },
    {
      "cell_type": "markdown",
      "metadata": {
        "id": "ptXM4EAwG7SB"
      },
      "source": [
        "#### Comparing tuned models \n",
        "To check if we are going in right direction we will compare the base model without tuning of parameters with the tuned model comparing the accuracy of both models on validation set"
      ]
    },
    {
      "cell_type": "code",
      "execution_count": 27,
      "metadata": {
        "colab": {
          "base_uri": "https://localhost:8080/",
          "height": 435
        },
        "id": "X53Uayw1G7SC",
        "outputId": "8c4f9278-37fe-48fa-b484-0fa451ed5d32"
      },
      "outputs": [
        {
          "data": {
            "text/html": [
              "<style>#sk-container-id-4 {color: black;background-color: white;}#sk-container-id-4 pre{padding: 0;}#sk-container-id-4 div.sk-toggleable {background-color: white;}#sk-container-id-4 label.sk-toggleable__label {cursor: pointer;display: block;width: 100%;margin-bottom: 0;padding: 0.3em;box-sizing: border-box;text-align: center;}#sk-container-id-4 label.sk-toggleable__label-arrow:before {content: \"▸\";float: left;margin-right: 0.25em;color: #696969;}#sk-container-id-4 label.sk-toggleable__label-arrow:hover:before {color: black;}#sk-container-id-4 div.sk-estimator:hover label.sk-toggleable__label-arrow:before {color: black;}#sk-container-id-4 div.sk-toggleable__content {max-height: 0;max-width: 0;overflow: hidden;text-align: left;background-color: #f0f8ff;}#sk-container-id-4 div.sk-toggleable__content pre {margin: 0.2em;color: black;border-radius: 0.25em;background-color: #f0f8ff;}#sk-container-id-4 input.sk-toggleable__control:checked~div.sk-toggleable__content {max-height: 200px;max-width: 100%;overflow: auto;}#sk-container-id-4 input.sk-toggleable__control:checked~label.sk-toggleable__label-arrow:before {content: \"▾\";}#sk-container-id-4 div.sk-estimator input.sk-toggleable__control:checked~label.sk-toggleable__label {background-color: #d4ebff;}#sk-container-id-4 div.sk-label input.sk-toggleable__control:checked~label.sk-toggleable__label {background-color: #d4ebff;}#sk-container-id-4 input.sk-hidden--visually {border: 0;clip: rect(1px 1px 1px 1px);clip: rect(1px, 1px, 1px, 1px);height: 1px;margin: -1px;overflow: hidden;padding: 0;position: absolute;width: 1px;}#sk-container-id-4 div.sk-estimator {font-family: monospace;background-color: #f0f8ff;border: 1px dotted black;border-radius: 0.25em;box-sizing: border-box;margin-bottom: 0.5em;}#sk-container-id-4 div.sk-estimator:hover {background-color: #d4ebff;}#sk-container-id-4 div.sk-parallel-item::after {content: \"\";width: 100%;border-bottom: 1px solid gray;flex-grow: 1;}#sk-container-id-4 div.sk-label:hover label.sk-toggleable__label {background-color: #d4ebff;}#sk-container-id-4 div.sk-serial::before {content: \"\";position: absolute;border-left: 1px solid gray;box-sizing: border-box;top: 0;bottom: 0;left: 50%;z-index: 0;}#sk-container-id-4 div.sk-serial {display: flex;flex-direction: column;align-items: center;background-color: white;padding-right: 0.2em;padding-left: 0.2em;position: relative;}#sk-container-id-4 div.sk-item {position: relative;z-index: 1;}#sk-container-id-4 div.sk-parallel {display: flex;align-items: stretch;justify-content: center;background-color: white;position: relative;}#sk-container-id-4 div.sk-item::before, #sk-container-id-4 div.sk-parallel-item::before {content: \"\";position: absolute;border-left: 1px solid gray;box-sizing: border-box;top: 0;bottom: 0;left: 50%;z-index: -1;}#sk-container-id-4 div.sk-parallel-item {display: flex;flex-direction: column;z-index: 1;position: relative;background-color: white;}#sk-container-id-4 div.sk-parallel-item:first-child::after {align-self: flex-end;width: 50%;}#sk-container-id-4 div.sk-parallel-item:last-child::after {align-self: flex-start;width: 50%;}#sk-container-id-4 div.sk-parallel-item:only-child::after {width: 0;}#sk-container-id-4 div.sk-dashed-wrapped {border: 1px dashed gray;margin: 0 0.4em 0.5em 0.4em;box-sizing: border-box;padding-bottom: 0.4em;background-color: white;}#sk-container-id-4 div.sk-label label {font-family: monospace;font-weight: bold;display: inline-block;line-height: 1.2em;}#sk-container-id-4 div.sk-label-container {text-align: center;}#sk-container-id-4 div.sk-container {/* jupyter's `normalize.less` sets `[hidden] { display: none; }` but bootstrap.min.css set `[hidden] { display: none !important; }` so we also need the `!important` here to be able to override the default hidden behavior on the sphinx rendered scikit-learn.org. See: https://github.com/scikit-learn/scikit-learn/issues/21755 */display: inline-block !important;position: relative;}#sk-container-id-4 div.sk-text-repr-fallback {display: none;}</style><div id=\"sk-container-id-4\" class=\"sk-top-container\"><div class=\"sk-text-repr-fallback\"><pre>GradientBoostingClassifier(loss=&#x27;exponential&#x27;, max_depth=15,\n",
              "                           max_features=&#x27;sqrt&#x27;, min_samples_leaf=3,\n",
              "                           n_estimators=1100, random_state=42)</pre><b>In a Jupyter environment, please rerun this cell to show the HTML representation or trust the notebook. <br />On GitHub, the HTML representation is unable to render, please try loading this page with nbviewer.org.</b></div><div class=\"sk-container\" hidden><div class=\"sk-item\"><div class=\"sk-estimator sk-toggleable\"><input class=\"sk-toggleable__control sk-hidden--visually\" id=\"sk-estimator-id-4\" type=\"checkbox\" checked><label for=\"sk-estimator-id-4\" class=\"sk-toggleable__label sk-toggleable__label-arrow\">GradientBoostingClassifier</label><div class=\"sk-toggleable__content\"><pre>GradientBoostingClassifier(loss=&#x27;exponential&#x27;, max_depth=15,\n",
              "                           max_features=&#x27;sqrt&#x27;, min_samples_leaf=3,\n",
              "                           n_estimators=1100, random_state=42)</pre></div></div></div></div></div>"
            ],
            "text/plain": [
              "GradientBoostingClassifier(loss='exponential', max_depth=15,\n",
              "                           max_features='sqrt', min_samples_leaf=3,\n",
              "                           n_estimators=1100, random_state=42)"
            ]
          },
          "execution_count": 27,
          "metadata": {},
          "output_type": "execute_result"
        }
      ],
      "source": [
        "# Training tuned model\n",
        "gb_final_w50 =  GradientBoostingClassifier(\n",
        "    loss='exponential',\n",
        "    max_depth=15,\n",
        "    max_features='sqrt',\n",
        "    min_samples_leaf=3,\n",
        "    min_samples_split=2,\n",
        "    n_estimators=1100,\n",
        "    learning_rate=0.1,\n",
        "    criterion='friedman_mse',\n",
        "    random_state=random_seed)\n",
        "\n",
        "gb_final_w50.fit(X_train50,y_train50)"
      ]
    },
    {
      "cell_type": "code",
      "execution_count": 28,
      "metadata": {},
      "outputs": [
        {
          "name": "stdout",
          "output_type": "stream",
          "text": [
            "Confusion matrix: \n"
          ]
        },
        {
          "data": {
            "image/png": "[encoded data removed]",
            "text/plain": [
              "<Figure size 640x480 with 2 Axes>"
            ]
          },
          "metadata": {},
          "output_type": "display_data"
        },
        {
          "name": "stdout",
          "output_type": "stream",
          "text": [
            "Model Performance: \n",
            "\n",
            "accuracy = 76.32%.\n",
            "recall = 59.33%.\n",
            "precision = 72.95%.\n",
            "f1_score = 65.44%.\n",
            "The tuned model with grid search had an improvement of 2.02%. respect the base model\n",
            "The tuned model with grid search had an improvement of 0.00%. respect the tuned  model with random search\n"
          ]
        }
      ],
      "source": [
        "#Computing the tuned model accuracy                                 \n",
        "gb_grid_metrics_w50 = evaluate(gb_final_w50, X_val50, y_val50,conf_matrix=True)\n",
        "\n",
        "print('The tuned model with grid search had an improvement of {:0.2f}%. respect the base model'\n",
        "                        .format( 100 * (gb_grid_metrics_w50[0] - gb_base_metrics_w50[0]) / gb_base_metrics_w50[0]))\n",
        "\n",
        "print('The tuned model with grid search had an improvement of {:0.2f}%. respect the tuned  model with random search'\n",
        "                        .format( 100 * (gb_grid_metrics_w50[0] - gb_random_metrics_w50[0]) / gb_random_metrics_w50[0]))\n"
      ]
    },
    {
      "cell_type": "markdown",
      "metadata": {
        "id": "9f-mjEScG7SD"
      },
      "source": [
        "### Support Vector Machines (SVM)"
      ]
    },
    {
      "cell_type": "markdown",
      "metadata": {
        "id": "CfO7J-O8G7SE"
      },
      "source": []
    },
    {
      "cell_type": "code",
      "execution_count": null,
      "metadata": {
        "id": "jF5yApI2G7SE",
        "outputId": "781883b8-fded-4748-f15f-8605536965c2"
      },
      "outputs": [
        {
          "name": "stdout",
          "output_type": "stream",
          "text": [
            "Parameters currently in use:\n",
            "\n",
            "{'C': 1.0,\n",
            " 'break_ties': False,\n",
            " 'cache_size': 200,\n",
            " 'class_weight': None,\n",
            " 'coef0': 0.0,\n",
            " 'decision_function_shape': 'ovr',\n",
            " 'degree': 3,\n",
            " 'gamma': 'scale',\n",
            " 'kernel': 'rbf',\n",
            " 'max_iter': -1,\n",
            " 'probability': False,\n",
            " 'random_state': 42,\n",
            " 'shrinking': True,\n",
            " 'tol': 0.001,\n",
            " 'verbose': False}\n"
          ]
        }
      ],
      "source": [
        "svmodel = SVC(\n",
        "    random_state= random_seed\n",
        ")\n",
        "\n",
        "print('Parameters currently in use:\\n')\n",
        "pprint(svmodel.get_params())"
      ]
    },
    {
      "cell_type": "code",
      "execution_count": null,
      "metadata": {
        "id": "o_pgEhVlG7SG",
        "outputId": "dc84a5ae-bfc0-4312-8b3b-87c7edf9ff1a"
      },
      "outputs": [
        {
          "name": "stdout",
          "output_type": "stream",
          "text": [
            "Model Performance\n",
            "Accuracy = 68.64%.\n"
          ]
        },
        {
          "data": {
            "text/plain": [
              "0.6863543788187373"
            ]
          },
          "execution_count": 17,
          "metadata": {},
          "output_type": "execute_result"
        }
      ],
      "source": [
        "svmodel.fit(X = X_train100, y = y_train100)\n",
        "evaluate(svmodel, X_val100, y_val100)"
      ]
    },
    {
      "cell_type": "markdown",
      "metadata": {
        "id": "ubiZZHOOG7SI"
      },
      "source": [
        "#### Grid Search w/ Cross Validation"
      ]
    },
    {
      "cell_type": "code",
      "execution_count": null,
      "metadata": {
        "id": "wRFvLlJoG7SI"
      },
      "outputs": [],
      "source": [
        "param_grid = {\n",
        "    'C': [0.1, 1, 10, 100, 1000],\n",
        "    'gamma': [1, 0.1, 0.01, 0.001, 0.0001],\n",
        "    'kernel': ['linear', 'poly', 'rbf']\n",
        "    }\n",
        "\n",
        "svc_final = GridSearchCV(\n",
        "    estimator = SVC(random_state=random_seed),\n",
        "    param_distributions = param_grid,\n",
        "    n_iter = 100,\n",
        "    cv = 3, \n",
        "    verbose = 3, \n",
        "    random_state = random_seed, \n",
        "    n_jobs = -1\n",
        ")\n",
        "\n",
        "svc_final.fit(X_train100, y_train100)"
      ]
    },
    {
      "cell_type": "code",
      "execution_count": null,
      "metadata": {
        "id": "7Jmder9aG7SJ",
        "outputId": "6a964e53-3df8-45a1-cac8-f7a90f1102de"
      },
      "outputs": [
        {
          "ename": "NameError",
          "evalue": "name 'svc_final' is not defined",
          "output_type": "error",
          "traceback": [
            "\u001b[0;31m---------------------------------------------------------------------------\u001b[0m",
            "\u001b[0;31mNameError\u001b[0m                                 Traceback (most recent call last)",
            "\u001b[0;32m/tmp/ipykernel_473/2372052084.py\u001b[0m in \u001b[0;36m<cell line: 1>\u001b[0;34m()\u001b[0m\n\u001b[0;32m----> 1\u001b[0;31m \u001b[0msvc_final\u001b[0m\u001b[0;34m.\u001b[0m\u001b[0mbest_params_\u001b[0m\u001b[0;34m\u001b[0m\u001b[0;34m\u001b[0m\u001b[0m\n\u001b[0m",
            "\u001b[0;31mNameError\u001b[0m: name 'svc_final' is not defined"
          ]
        }
      ],
      "source": [
        "svc_final.best_params_"
      ]
    },
    {
      "cell_type": "markdown",
      "metadata": {
        "id": "HDGUzy8vG7SK"
      },
      "source": [
        "##### Save and load the model"
      ]
    },
    {
      "cell_type": "code",
      "execution_count": null,
      "metadata": {
        "id": "d0c8IpMkG7SL",
        "outputId": "e3cc38ea-4c25-4b94-cf3f-374b49b1f3ba"
      },
      "outputs": [
        {
          "data": {
            "text/html": [
              "<style>#sk-container-id-3 {color: black;background-color: white;}#sk-container-id-3 pre{padding: 0;}#sk-container-id-3 div.sk-toggleable {background-color: white;}#sk-container-id-3 label.sk-toggleable__label {cursor: pointer;display: block;width: 100%;margin-bottom: 0;padding: 0.3em;box-sizing: border-box;text-align: center;}#sk-container-id-3 label.sk-toggleable__label-arrow:before {content: \"▸\";float: left;margin-right: 0.25em;color: #696969;}#sk-container-id-3 label.sk-toggleable__label-arrow:hover:before {color: black;}#sk-container-id-3 div.sk-estimator:hover label.sk-toggleable__label-arrow:before {color: black;}#sk-container-id-3 div.sk-toggleable__content {max-height: 0;max-width: 0;overflow: hidden;text-align: left;background-color: #f0f8ff;}#sk-container-id-3 div.sk-toggleable__content pre {margin: 0.2em;color: black;border-radius: 0.25em;background-color: #f0f8ff;}#sk-container-id-3 input.sk-toggleable__control:checked~div.sk-toggleable__content {max-height: 200px;max-width: 100%;overflow: auto;}#sk-container-id-3 input.sk-toggleable__control:checked~label.sk-toggleable__label-arrow:before {content: \"▾\";}#sk-container-id-3 div.sk-estimator input.sk-toggleable__control:checked~label.sk-toggleable__label {background-color: #d4ebff;}#sk-container-id-3 div.sk-label input.sk-toggleable__control:checked~label.sk-toggleable__label {background-color: #d4ebff;}#sk-container-id-3 input.sk-hidden--visually {border: 0;clip: rect(1px 1px 1px 1px);clip: rect(1px, 1px, 1px, 1px);height: 1px;margin: -1px;overflow: hidden;padding: 0;position: absolute;width: 1px;}#sk-container-id-3 div.sk-estimator {font-family: monospace;background-color: #f0f8ff;border: 1px dotted black;border-radius: 0.25em;box-sizing: border-box;margin-bottom: 0.5em;}#sk-container-id-3 div.sk-estimator:hover {background-color: #d4ebff;}#sk-container-id-3 div.sk-parallel-item::after {content: \"\";width: 100%;border-bottom: 1px solid gray;flex-grow: 1;}#sk-container-id-3 div.sk-label:hover label.sk-toggleable__label {background-color: #d4ebff;}#sk-container-id-3 div.sk-serial::before {content: \"\";position: absolute;border-left: 1px solid gray;box-sizing: border-box;top: 0;bottom: 0;left: 50%;z-index: 0;}#sk-container-id-3 div.sk-serial {display: flex;flex-direction: column;align-items: center;background-color: white;padding-right: 0.2em;padding-left: 0.2em;position: relative;}#sk-container-id-3 div.sk-item {position: relative;z-index: 1;}#sk-container-id-3 div.sk-parallel {display: flex;align-items: stretch;justify-content: center;background-color: white;position: relative;}#sk-container-id-3 div.sk-item::before, #sk-container-id-3 div.sk-parallel-item::before {content: \"\";position: absolute;border-left: 1px solid gray;box-sizing: border-box;top: 0;bottom: 0;left: 50%;z-index: -1;}#sk-container-id-3 div.sk-parallel-item {display: flex;flex-direction: column;z-index: 1;position: relative;background-color: white;}#sk-container-id-3 div.sk-parallel-item:first-child::after {align-self: flex-end;width: 50%;}#sk-container-id-3 div.sk-parallel-item:last-child::after {align-self: flex-start;width: 50%;}#sk-container-id-3 div.sk-parallel-item:only-child::after {width: 0;}#sk-container-id-3 div.sk-dashed-wrapped {border: 1px dashed gray;margin: 0 0.4em 0.5em 0.4em;box-sizing: border-box;padding-bottom: 0.4em;background-color: white;}#sk-container-id-3 div.sk-label label {font-family: monospace;font-weight: bold;display: inline-block;line-height: 1.2em;}#sk-container-id-3 div.sk-label-container {text-align: center;}#sk-container-id-3 div.sk-container {/* jupyter's `normalize.less` sets `[hidden] { display: none; }` but bootstrap.min.css set `[hidden] { display: none !important; }` so we also need the `!important` here to be able to override the default hidden behavior on the sphinx rendered scikit-learn.org. See: https://github.com/scikit-learn/scikit-learn/issues/21755 */display: inline-block !important;position: relative;}#sk-container-id-3 div.sk-text-repr-fallback {display: none;}</style><div id=\"sk-container-id-3\" class=\"sk-top-container\"><div class=\"sk-text-repr-fallback\"><pre>RandomizedSearchCV(cv=3, estimator=SVC(), n_iter=100, n_jobs=-1,\n",
              "                   param_distributions={&#x27;C&#x27;: [0.1, 1, 10, 100, 1000],\n",
              "                                        &#x27;gamma&#x27;: [1, 0.1, 0.01, 0.001, 0.0001],\n",
              "                                        &#x27;kernel&#x27;: [&#x27;linear&#x27;, &#x27;poly&#x27;, &#x27;rbf&#x27;]},\n",
              "                   random_state=42, verbose=3)</pre><b>In a Jupyter environment, please rerun this cell to show the HTML representation or trust the notebook. <br />On GitHub, the HTML representation is unable to render, please try loading this page with nbviewer.org.</b></div><div class=\"sk-container\" hidden><div class=\"sk-item sk-dashed-wrapped\"><div class=\"sk-label-container\"><div class=\"sk-label sk-toggleable\"><input class=\"sk-toggleable__control sk-hidden--visually\" id=\"sk-estimator-id-5\" type=\"checkbox\" ><label for=\"sk-estimator-id-5\" class=\"sk-toggleable__label sk-toggleable__label-arrow\">RandomizedSearchCV</label><div class=\"sk-toggleable__content\"><pre>RandomizedSearchCV(cv=3, estimator=SVC(), n_iter=100, n_jobs=-1,\n",
              "                   param_distributions={&#x27;C&#x27;: [0.1, 1, 10, 100, 1000],\n",
              "                                        &#x27;gamma&#x27;: [1, 0.1, 0.01, 0.001, 0.0001],\n",
              "                                        &#x27;kernel&#x27;: [&#x27;linear&#x27;, &#x27;poly&#x27;, &#x27;rbf&#x27;]},\n",
              "                   random_state=42, verbose=3)</pre></div></div></div><div class=\"sk-parallel\"><div class=\"sk-parallel-item\"><div class=\"sk-item\"><div class=\"sk-label-container\"><div class=\"sk-label sk-toggleable\"><input class=\"sk-toggleable__control sk-hidden--visually\" id=\"sk-estimator-id-6\" type=\"checkbox\" ><label for=\"sk-estimator-id-6\" class=\"sk-toggleable__label sk-toggleable__label-arrow\">estimator: SVC</label><div class=\"sk-toggleable__content\"><pre>SVC()</pre></div></div></div><div class=\"sk-serial\"><div class=\"sk-item\"><div class=\"sk-estimator sk-toggleable\"><input class=\"sk-toggleable__control sk-hidden--visually\" id=\"sk-estimator-id-7\" type=\"checkbox\" ><label for=\"sk-estimator-id-7\" class=\"sk-toggleable__label sk-toggleable__label-arrow\">SVC</label><div class=\"sk-toggleable__content\"><pre>SVC()</pre></div></div></div></div></div></div></div></div></div></div>"
            ],
            "text/plain": [
              "RandomizedSearchCV(cv=3, estimator=SVC(), n_iter=100, n_jobs=-1,\n",
              "                   param_distributions={'C': [0.1, 1, 10, 100, 1000],\n",
              "                                        'gamma': [1, 0.1, 0.01, 0.001, 0.0001],\n",
              "                                        'kernel': ['linear', 'poly', 'rbf']},\n",
              "                   random_state=42, verbose=3)"
            ]
          },
          "execution_count": 24,
          "metadata": {},
          "output_type": "execute_result"
        }
      ],
      "source": [
        "#pickle.dump(svc_final, open('Models/svc_final.pkl', 'wb'))\n",
        "svc_final = pickle.load(open('Models/svc_final.pkl', 'rb'))"
      ]
    },
    {
      "cell_type": "markdown",
      "metadata": {
        "id": "Fu90TlCvG7SO"
      },
      "source": [
        "## Evalution Models\n",
        "\n",
        "| Models              | Test Accuracy | Test Recall | Test Precision | F1 Score |\n",
        "|---------------------|---------------|-------------|----------------|----------|\n",
        "| Logistic Regression |               |             |                |          |\n",
        "| Random Forest       |               |             |                |          |\n",
        "| K-NN                |               |             |                |          |\n",
        "| Orazio              |               |             |                |          |"
      ]
    }
  ],
  "metadata": {
    "colab": {
      "provenance": []
    },
    "kernelspec": {
      "display_name": "Python 3",
      "language": "python",
      "name": "python3"
    },
    "language_info": {
      "codemirror_mode": {
        "name": "ipython",
        "version": 3
      },
      "file_extension": ".py",
      "mimetype": "text/x-python",
      "name": "python",
      "nbconvert_exporter": "python",
      "pygments_lexer": "ipython3",
      "version": "3.10.8"
    },
    "orig_nbformat": 4,
    "vscode": {
      "interpreter": {
        "hash": "26de051ba29f2982a8de78e945f0abaf191376122a1563185a90213a26c5da77"
      }
    }
  },
  "nbformat": 4,
  "nbformat_minor": 0
}
