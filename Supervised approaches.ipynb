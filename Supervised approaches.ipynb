{
 "cells": [
  {
   "attachments": {},
   "cell_type": "markdown",
   "metadata": {},
   "source": [
    "# Model-building phase: supervised approaches"
   ]
  },
  {
   "cell_type": "code",
   "execution_count": 29,
   "metadata": {},
   "outputs": [],
   "source": [
    "import pandas as pd\n",
    "import numpy as np\n",
    "import random\n",
    "from sklearn import preprocessing\n",
    "from prep import prep"
   ]
  },
  {
   "attachments": {},
   "cell_type": "markdown",
   "metadata": {},
   "source": [
    "## Data preprocessing"
   ]
  },
  {
   "attachments": {},
   "cell_type": "markdown",
   "metadata": {},
   "source": [
    "In preprocessing the data we make use of the *prep* function, which simultaneously allows us both to deal with the missing values, giving us the choice of removing them, or partially removing them by replacing the remainder with the mean or median of the corresponding variable, and to scale the data, with the possibility of choosing the method by which to scale such data from all the scalers in scikit-learn, by default the MinMaxScaler is set. The function then takes as input a pandas DataFrame and outputs a numpy ndarray containing the cleaned data from the previous dataset."
   ]
  },
  {
   "attachments": {},
   "cell_type": "markdown",
   "metadata": {},
   "source": [
    "Our idea is to generate two datasets: the first by eliminating all observations having at least one component with a missing value, the second by eliminating only 50 percent of those observations. Eventually we will train each model using both datasets and collect their metrics in order to assess whether on average such a reduction in missing values to be eliminated (thus replacing the missing part) resulted in any benefit."
   ]
  },
  {
   "cell_type": "code",
   "execution_count": 30,
   "metadata": {},
   "outputs": [
    {
     "name": "stdout",
     "output_type": "stream",
     "text": [
      "original dataset size:  (3276, 10) type:  <class 'pandas.core.frame.DataFrame'>\n",
      "cleaned dataset with all of missing values removed:  (2011, 10) type:  <class 'numpy.ndarray'>\n",
      "cleaned dataset with 50% of missing values removed:  (2515, 10) type:  <class 'numpy.ndarray'>\n"
     ]
    }
   ],
   "source": [
    "random.seed(13)\n",
    "water = pd.read_csv('dataset/drinking_water_potability.csv')\n",
    "water0 = prep( \n",
    "    df = water,\n",
    "    axis='obs',\n",
    "    perc=100,\n",
    "    fill_method='mean',\n",
    "    scaler= preprocessing.MinMaxScaler()\n",
    "    )\n",
    "water50 = prep(\n",
    "    df = water,\n",
    "    axis='obs',\n",
    "    perc=50,\n",
    "    fill_method='mean',\n",
    "    scaler= preprocessing.MinMaxScaler()\n",
    ")\n",
    "print('original dataset size: ', water.shape, 'type: ', type(water))\n",
    "print('cleaned dataset with all of missing values removed: ', np.shape(water0), 'type: ', type(water0))\n",
    "print('cleaned dataset with 50% of missing values removed: ', np.shape(water50), 'type: ', type(water50))"
   ]
  }
 ],
 "metadata": {
  "kernelspec": {
   "display_name": "ml",
   "language": "python",
   "name": "python3"
  },
  "language_info": {
   "codemirror_mode": {
    "name": "ipython",
    "version": 3
   },
   "file_extension": ".py",
   "mimetype": "text/x-python",
   "name": "python",
   "nbconvert_exporter": "python",
   "pygments_lexer": "ipython3",
   "version": "3.10.8"
  },
  "orig_nbformat": 4,
  "vscode": {
   "interpreter": {
    "hash": "1dc0ff55a6cf0fe1006f11d35a9f6915f2bed84f134a7fb700b225cdab025b85"
   }
  }
 },
 "nbformat": 4,
 "nbformat_minor": 2
}
